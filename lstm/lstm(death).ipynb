{
 "cells": [
  {
   "cell_type": "code",
   "execution_count": 1,
   "metadata": {},
   "outputs": [],
   "source": [
    "import numpy\n",
    "import matplotlib.pyplot as plt\n",
    "import pandas\n",
    "import math\n",
    "from keras.models import Sequential\n",
    "from keras.layers import Dense\n",
    "from keras.layers import LSTM\n",
    "from sklearn.preprocessing import MinMaxScaler\n",
    "from sklearn import metrics "
   ]
  },
  {
   "cell_type": "code",
   "execution_count": 2,
   "metadata": {},
   "outputs": [],
   "source": [
    "# convert an array of values into a dataset matrix\n",
    "#split a univariate sequence into samples/dataset\n",
    "def create_dataset(dataset, look_back=1):\n",
    "    dataX, dataY = [], []\n",
    "    for i in range(len(dataset)-look_back-1):\n",
    "        a = dataset[i:(i+look_back), 0]\n",
    "        #gather input and output parts of the pattern\n",
    "        dataX.append(a)\n",
    "        dataY.append(dataset[i + look_back, 0])\n",
    "    return numpy.array(dataX), numpy.array(dataY)\n"
   ]
  },
  {
   "cell_type": "code",
   "execution_count": 3,
   "metadata": {},
   "outputs": [],
   "source": [
    "# fix random seed for reproducibility\n",
    "numpy.random.seed(7)\n"
   ]
  },
  {
   "cell_type": "code",
   "execution_count": 4,
   "metadata": {},
   "outputs": [],
   "source": [
    "df= pandas.read_excel('D:\\8th sem\\Covid-19-dataset-for-Bangladesh(DeathPerDay).xlsx',usecols=[1])"
   ]
  },
  {
   "cell_type": "code",
   "execution_count": 5,
   "metadata": {},
   "outputs": [
    {
     "data": {
      "text/plain": [
       "Death per day    0\n",
       "dtype: int64"
      ]
     },
     "execution_count": 5,
     "metadata": {},
     "output_type": "execute_result"
    }
   ],
   "source": [
    "df.isna().sum()"
   ]
  },
  {
   "cell_type": "code",
   "execution_count": 6,
   "metadata": {},
   "outputs": [
    {
     "data": {
      "text/plain": [
       "(511, 1)"
      ]
     },
     "execution_count": 6,
     "metadata": {},
     "output_type": "execute_result"
    }
   ],
   "source": [
    "df.shape"
   ]
  },
  {
   "cell_type": "code",
   "execution_count": 7,
   "metadata": {},
   "outputs": [],
   "source": [
    "#df['Date'] = pandas.to_numeric(pandas.to_datetime(df['Date']))\n",
    "dataset=df.values\n",
    "dataset = dataset.astype('float32')"
   ]
  },
  {
   "cell_type": "code",
   "execution_count": 8,
   "metadata": {},
   "outputs": [],
   "source": [
    "scaler = MinMaxScaler(feature_range=(0, 1))\n",
    "dataset = scaler.fit_transform(dataset)"
   ]
  },
  {
   "cell_type": "code",
   "execution_count": 9,
   "metadata": {},
   "outputs": [
    {
     "name": "stdout",
     "output_type": "stream",
     "text": [
      "358 153\n"
     ]
    }
   ],
   "source": [
    "# split into train and test sets\n",
    "train_size = int(len(dataset) * 0.701) \n",
    "test_size = len(dataset) - train_size\n",
    "train, test = dataset[0:train_size,:], dataset[train_size:len(dataset),:]\n",
    "print(len(train), len(test))"
   ]
  },
  {
   "cell_type": "code",
   "execution_count": 10,
   "metadata": {},
   "outputs": [],
   "source": [
    "# reshape into X=t and Y=t+1\n",
    "look_back = 1\n",
    "trainX, trainY = create_dataset(train, look_back)\n",
    "testX, testY = create_dataset(test, look_back)"
   ]
  },
  {
   "cell_type": "code",
   "execution_count": 11,
   "metadata": {},
   "outputs": [],
   "source": [
    "# reshape input to be [samples, time steps, features]\n",
    "trainX = numpy.reshape(trainX, (trainX.shape[0], 1, trainX.shape[1]))\n",
    "testX = numpy.reshape(testX, (testX.shape[0], 1, testX.shape[1]))"
   ]
  },
  {
   "cell_type": "code",
   "execution_count": 12,
   "metadata": {},
   "outputs": [
    {
     "name": "stdout",
     "output_type": "stream",
     "text": [
      "Epoch 1/100\n",
      "356/356 - 1s - loss: 0.0028\n",
      "Epoch 2/100\n",
      "356/356 - 1s - loss: 0.0018\n",
      "Epoch 3/100\n",
      "356/356 - 1s - loss: 0.0013\n",
      "Epoch 4/100\n",
      "356/356 - 1s - loss: 9.9625e-04\n",
      "Epoch 5/100\n",
      "356/356 - 1s - loss: 9.0868e-04\n",
      "Epoch 6/100\n",
      "356/356 - 1s - loss: 8.6607e-04\n",
      "Epoch 7/100\n",
      "356/356 - 1s - loss: 8.6551e-04\n",
      "Epoch 8/100\n",
      "356/356 - 1s - loss: 8.6616e-04\n",
      "Epoch 9/100\n",
      "356/356 - 1s - loss: 8.3759e-04\n",
      "Epoch 10/100\n",
      "356/356 - 1s - loss: 8.6494e-04\n",
      "Epoch 11/100\n",
      "356/356 - 1s - loss: 8.6607e-04\n",
      "Epoch 12/100\n",
      "356/356 - 1s - loss: 8.5549e-04\n",
      "Epoch 13/100\n",
      "356/356 - 1s - loss: 8.6244e-04\n",
      "Epoch 14/100\n",
      "356/356 - 1s - loss: 8.6737e-04\n",
      "Epoch 15/100\n",
      "356/356 - 1s - loss: 8.6111e-04\n",
      "Epoch 16/100\n",
      "356/356 - 1s - loss: 8.4543e-04\n",
      "Epoch 17/100\n",
      "356/356 - 1s - loss: 8.4606e-04\n",
      "Epoch 18/100\n",
      "356/356 - 1s - loss: 8.4664e-04\n",
      "Epoch 19/100\n",
      "356/356 - 1s - loss: 8.3635e-04\n",
      "Epoch 20/100\n",
      "356/356 - 1s - loss: 8.4980e-04\n",
      "Epoch 21/100\n",
      "356/356 - 1s - loss: 8.6477e-04\n",
      "Epoch 22/100\n",
      "356/356 - 1s - loss: 8.2860e-04\n",
      "Epoch 23/100\n",
      "356/356 - 1s - loss: 8.4803e-04\n",
      "Epoch 24/100\n",
      "356/356 - 1s - loss: 8.5843e-04\n",
      "Epoch 25/100\n",
      "356/356 - 1s - loss: 8.6324e-04\n",
      "Epoch 26/100\n",
      "356/356 - 1s - loss: 8.5086e-04\n",
      "Epoch 27/100\n",
      "356/356 - 1s - loss: 8.3865e-04\n",
      "Epoch 28/100\n",
      "356/356 - 1s - loss: 8.4522e-04\n",
      "Epoch 29/100\n",
      "356/356 - 1s - loss: 8.3288e-04\n",
      "Epoch 30/100\n",
      "356/356 - 1s - loss: 8.5183e-04\n",
      "Epoch 31/100\n",
      "356/356 - 1s - loss: 8.3086e-04\n",
      "Epoch 32/100\n",
      "356/356 - 1s - loss: 8.2896e-04\n",
      "Epoch 33/100\n",
      "356/356 - 1s - loss: 8.2774e-04\n",
      "Epoch 34/100\n",
      "356/356 - 1s - loss: 8.6369e-04\n",
      "Epoch 35/100\n",
      "356/356 - 1s - loss: 8.4411e-04\n",
      "Epoch 36/100\n",
      "356/356 - 1s - loss: 8.3943e-04\n",
      "Epoch 37/100\n",
      "356/356 - 1s - loss: 8.2452e-04\n",
      "Epoch 38/100\n",
      "356/356 - 1s - loss: 8.4118e-04\n",
      "Epoch 39/100\n",
      "356/356 - 1s - loss: 8.3148e-04\n",
      "Epoch 40/100\n",
      "356/356 - 1s - loss: 8.3534e-04\n",
      "Epoch 41/100\n",
      "356/356 - 1s - loss: 8.1297e-04\n",
      "Epoch 42/100\n",
      "356/356 - 1s - loss: 8.2569e-04\n",
      "Epoch 43/100\n",
      "356/356 - 1s - loss: 8.4152e-04\n",
      "Epoch 44/100\n",
      "356/356 - 1s - loss: 8.3903e-04\n",
      "Epoch 45/100\n",
      "356/356 - 1s - loss: 8.4664e-04\n",
      "Epoch 46/100\n",
      "356/356 - 1s - loss: 8.1613e-04\n",
      "Epoch 47/100\n",
      "356/356 - 1s - loss: 8.1846e-04\n",
      "Epoch 48/100\n",
      "356/356 - 1s - loss: 8.1097e-04\n",
      "Epoch 49/100\n",
      "356/356 - 1s - loss: 8.2641e-04\n",
      "Epoch 50/100\n",
      "356/356 - 1s - loss: 8.1428e-04\n",
      "Epoch 51/100\n",
      "356/356 - 1s - loss: 8.3386e-04\n",
      "Epoch 52/100\n",
      "356/356 - 1s - loss: 8.3825e-04\n",
      "Epoch 53/100\n",
      "356/356 - 1s - loss: 8.1388e-04\n",
      "Epoch 54/100\n",
      "356/356 - 1s - loss: 8.4132e-04\n",
      "Epoch 55/100\n",
      "356/356 - 1s - loss: 8.2891e-04\n",
      "Epoch 56/100\n",
      "356/356 - 1s - loss: 8.3577e-04\n",
      "Epoch 57/100\n",
      "356/356 - 1s - loss: 8.2893e-04\n",
      "Epoch 58/100\n",
      "356/356 - 1s - loss: 8.1110e-04\n",
      "Epoch 59/100\n",
      "356/356 - 1s - loss: 8.2827e-04\n",
      "Epoch 60/100\n",
      "356/356 - 1s - loss: 8.0969e-04\n",
      "Epoch 61/100\n",
      "356/356 - 1s - loss: 8.0279e-04\n",
      "Epoch 62/100\n",
      "356/356 - 1s - loss: 8.3641e-04\n",
      "Epoch 63/100\n",
      "356/356 - 1s - loss: 8.3986e-04\n",
      "Epoch 64/100\n",
      "356/356 - 1s - loss: 8.2391e-04\n",
      "Epoch 65/100\n",
      "356/356 - 1s - loss: 8.1737e-04\n",
      "Epoch 66/100\n",
      "356/356 - 1s - loss: 8.1787e-04\n",
      "Epoch 67/100\n",
      "356/356 - 1s - loss: 8.1486e-04\n",
      "Epoch 68/100\n",
      "356/356 - 1s - loss: 8.0101e-04\n",
      "Epoch 69/100\n",
      "356/356 - 1s - loss: 8.0559e-04\n",
      "Epoch 70/100\n",
      "356/356 - 1s - loss: 8.2456e-04\n",
      "Epoch 71/100\n",
      "356/356 - 1s - loss: 8.1600e-04\n",
      "Epoch 72/100\n",
      "356/356 - 1s - loss: 8.1953e-04\n",
      "Epoch 73/100\n",
      "356/356 - 1s - loss: 8.0916e-04\n",
      "Epoch 74/100\n",
      "356/356 - 1s - loss: 8.2393e-04\n",
      "Epoch 75/100\n",
      "356/356 - 1s - loss: 8.1744e-04\n",
      "Epoch 76/100\n",
      "356/356 - 1s - loss: 8.2061e-04\n",
      "Epoch 77/100\n",
      "356/356 - 1s - loss: 7.9986e-04\n",
      "Epoch 78/100\n",
      "356/356 - 1s - loss: 8.2559e-04\n",
      "Epoch 79/100\n",
      "356/356 - 1s - loss: 8.2150e-04\n",
      "Epoch 80/100\n",
      "356/356 - 1s - loss: 8.1172e-04\n",
      "Epoch 81/100\n",
      "356/356 - 1s - loss: 8.2191e-04\n",
      "Epoch 82/100\n",
      "356/356 - 1s - loss: 8.1220e-04\n",
      "Epoch 83/100\n",
      "356/356 - 1s - loss: 8.1288e-04\n",
      "Epoch 84/100\n",
      "356/356 - 1s - loss: 8.0738e-04\n",
      "Epoch 85/100\n",
      "356/356 - 1s - loss: 8.0600e-04\n",
      "Epoch 86/100\n",
      "356/356 - 1s - loss: 8.0908e-04\n",
      "Epoch 87/100\n",
      "356/356 - 1s - loss: 8.1747e-04\n",
      "Epoch 88/100\n",
      "356/356 - 1s - loss: 8.0554e-04\n",
      "Epoch 89/100\n",
      "356/356 - 1s - loss: 8.0945e-04\n",
      "Epoch 90/100\n",
      "356/356 - 1s - loss: 8.1878e-04\n",
      "Epoch 91/100\n",
      "356/356 - 1s - loss: 7.9172e-04\n",
      "Epoch 92/100\n",
      "356/356 - 1s - loss: 8.0378e-04\n",
      "Epoch 93/100\n",
      "356/356 - 1s - loss: 7.9896e-04\n",
      "Epoch 94/100\n",
      "356/356 - 1s - loss: 7.8568e-04\n",
      "Epoch 95/100\n",
      "356/356 - 1s - loss: 8.0996e-04\n",
      "Epoch 96/100\n",
      "356/356 - 1s - loss: 8.1104e-04\n",
      "Epoch 97/100\n",
      "356/356 - 1s - loss: 8.0342e-04\n",
      "Epoch 98/100\n",
      "356/356 - 1s - loss: 7.9388e-04\n",
      "Epoch 99/100\n",
      "356/356 - 1s - loss: 7.9701e-04\n",
      "Epoch 100/100\n",
      "356/356 - 1s - loss: 8.0276e-04\n"
     ]
    },
    {
     "data": {
      "text/plain": [
       "<tensorflow.python.keras.callbacks.History at 0x19a6e709400>"
      ]
     },
     "execution_count": 12,
     "metadata": {},
     "output_type": "execute_result"
    }
   ],
   "source": [
    "# create and fit the LSTM network\n",
    "model = Sequential()\n",
    "model.add(LSTM(4, input_shape=(1, look_back)))\n",
    "model.add(Dense(1))\n",
    "model.compile(loss='mean_squared_error', optimizer='adam')\n",
    "model.fit(trainX, trainY, epochs=100, batch_size=1, verbose=2)"
   ]
  },
  {
   "cell_type": "code",
   "execution_count": 13,
   "metadata": {},
   "outputs": [],
   "source": [
    "# make predictions\n",
    "trainPredict = model.predict(trainX)\n",
    "testPredict = model.predict(testX)\n"
   ]
  },
  {
   "cell_type": "code",
   "execution_count": 14,
   "metadata": {},
   "outputs": [],
   "source": [
    "# invert predictions\n",
    "trainPredict = scaler.inverse_transform(trainPredict)\n",
    "trainY = scaler.inverse_transform([trainY])\n",
    "testPredict = scaler.inverse_transform(testPredict)\n",
    "testY = scaler.inverse_transform([testY])"
   ]
  },
  {
   "cell_type": "code",
   "execution_count": 15,
   "metadata": {},
   "outputs": [
    {
     "name": "stdout",
     "output_type": "stream",
     "text": [
      "Train Score: 7.15 RMSE\n",
      "Test Score: 56.03 RMSE\n"
     ]
    }
   ],
   "source": [
    "# calculate root mean squared error\n",
    "trainScore = math.sqrt(metrics.mean_squared_error(trainY[0], trainPredict[:,0]))\n",
    "print('Train Score: %.2f RMSE' % (trainScore))\n",
    "testScore = math.sqrt(metrics.mean_squared_error(testY[0], testPredict[:,0]))\n",
    "print('Test Score: %.2f RMSE' % (testScore))"
   ]
  },
  {
   "cell_type": "code",
   "execution_count": 16,
   "metadata": {},
   "outputs": [
    {
     "name": "stdout",
     "output_type": "stream",
     "text": [
      "Train Score: 51.17 MSE\n",
      "Test Score: 3138.88 MSE\n"
     ]
    }
   ],
   "source": [
    "# calculate mean squared error\n",
    "trainScore = metrics.mean_squared_error(trainY[0], trainPredict[:,0])\n",
    "print('Train Score: %.2f MSE' % (trainScore))\n",
    "testScore = metrics.mean_squared_error(testY[0], testPredict[:,0])\n",
    "print('Test Score: %.2f MSE' % (testScore))"
   ]
  },
  {
   "cell_type": "code",
   "execution_count": 17,
   "metadata": {},
   "outputs": [
    {
     "name": "stdout",
     "output_type": "stream",
     "text": [
      "Train Score: 5.58 MAE\n",
      "Test Score: 32.56 MAE\n"
     ]
    }
   ],
   "source": [
    "# calculate mean absolute error\n",
    "trainScore = metrics.mean_absolute_error(trainY[0], trainPredict[:,0])\n",
    "print('Train Score: %.2f MAE' % (trainScore))\n",
    "testScore = metrics.mean_absolute_error(testY[0], testPredict[:,0])\n",
    "print('Test Score: %.2f MAE' % (testScore))"
   ]
  },
  {
   "cell_type": "code",
   "execution_count": 18,
   "metadata": {},
   "outputs": [],
   "source": [
    "# shift train predictions for plotting\n",
    "trainPredictPlot = numpy.empty_like(dataset)\n",
    "trainPredictPlot[:, :] = numpy.nan\n",
    "trainPredictPlot[look_back:len(trainPredict)+look_back, :] = trainPredict"
   ]
  },
  {
   "cell_type": "code",
   "execution_count": 19,
   "metadata": {},
   "outputs": [],
   "source": [
    "# shift test predictions for plotting\n",
    "testPredictPlot = numpy.empty_like(dataset)\n",
    "testPredictPlot[:, :] = numpy.nan\n",
    "testPredictPlot[len(trainPredict)+(look_back*2)+1:len(dataset)-1, :] = testPredict"
   ]
  },
  {
   "cell_type": "code",
   "execution_count": 20,
   "metadata": {},
   "outputs": [
    {
     "data": {
      "image/png": "[encoded data removed]",
      "text/plain": [
       "<Figure size 1080x576 with 1 Axes>"
      ]
     },
     "metadata": {
      "needs_background": "light"
     },
     "output_type": "display_data"
    }
   ],
   "source": [
    "# plot baseline and predictions\n",
    "plt.figure(figsize=(15,8))\n",
    "plt.plot(scaler.inverse_transform(dataset))#original-blue\n",
    "plt.plot(trainPredictPlot)#orange\n",
    "plt.plot(testPredictPlot)#green\n",
    "plt.legend(['Original','predictions of training dataset','predictions on test dataset'])\n",
    "plt.show()"
   ]
  },
  {
   "cell_type": "code",
   "execution_count": 21,
   "metadata": {},
   "outputs": [],
   "source": [
    "yhat = model.predict(testX, verbose=0)"
   ]
  },
  {
   "cell_type": "code",
   "execution_count": 22,
   "metadata": {},
   "outputs": [
    {
     "name": "stdout",
     "output_type": "stream",
     "text": [
      "Predicted=[184.14484]\n",
      "Predicted=[201.8344]\n",
      "Predicted=[178.85612]\n",
      "Predicted=[199.38536]\n",
      "Predicted=[186.75005]\n",
      "Predicted=[184.14484]\n",
      "Predicted=[218.25262]\n",
      "Predicted=[211.37122]\n",
      "Predicted=[235.47679]\n",
      "Predicted=[211.37122]\n",
      "Predicted=[241.51797]\n",
      "Predicted=[243.4816]\n",
      "Predicted=[252.9273]\n",
      "Predicted=[224.9029]\n",
      "Predicted=[274.64667]\n",
      "Predicted=[271.56653]\n",
      "Predicted=[281.94202]\n",
      "Predicted=[281.94202]\n",
      "Predicted=[283.33264]\n",
      "Predicted=[296.01685]\n",
      "Predicted=[266.77026]\n",
      "Predicted=[273.11826]\n",
      "Predicted=[277.63376]\n",
      "Predicted=[261.76007]\n",
      "Predicted=[252.9273]\n",
      "Predicted=[281.94202]\n",
      "Predicted=[276.15176]\n",
      "Predicted=[243.4816]\n",
      "Predicted=[241.51797]\n",
      "Predicted=[261.76007]\n",
      "Predicted=[196.91034]\n",
      "Predicted=[204.25743]\n",
      "Predicted=[224.9029]\n",
      "Predicted=[215.9846]\n",
      "Predicted=[206.65459]\n",
      "Predicted=[178.85612]\n",
      "Predicted=[153.7665]\n",
      "Predicted=[141.93991]\n",
      "Predicted=[165.17795]\n",
      "Predicted=[194.40936]\n",
      "Predicted=[144.93538]\n",
      "Predicted=[129.70064]\n",
      "Predicted=[150.84871]\n",
      "Predicted=[123.427216]\n",
      "Predicted=[107.29944]\n",
      "Predicted=[93.94551]\n",
      "Predicted=[103.99833]\n",
      "Predicted=[126.576675]\n",
      "Predicted=[120.25228]\n",
      "Predicted=[141.93991]\n",
      "Predicted=[138.91872]\n",
      "Predicted=[107.29944]\n",
      "Predicted=[144.93538]\n",
      "Predicted=[113.826324]\n",
      "Predicted=[103.99833]\n",
      "Predicted=[150.84871]\n",
      "Predicted=[76.69845]\n",
      "Predicted=[93.94551]\n",
      "Predicted=[123.427216]\n",
      "Predicted=[144.93538]\n",
      "Predicted=[132.79897]\n",
      "Predicted=[138.91872]\n",
      "Predicted=[153.7665]\n",
      "Predicted=[132.79897]\n",
      "Predicted=[120.25228]\n",
      "Predicted=[132.79897]\n",
      "Predicted=[159.52423]\n",
      "Predicted=[144.93538]\n",
      "Predicted=[120.25228]\n",
      "Predicted=[162.36406]\n",
      "Predicted=[138.91872]\n",
      "Predicted=[150.84871]\n",
      "Predicted=[159.52423]\n",
      "Predicted=[147.905]\n",
      "Predicted=[170.72742]\n",
      "Predicted=[189.3292]\n",
      "Predicted=[178.85612]\n",
      "Predicted=[204.25743]\n",
      "Predicted=[211.37122]\n",
      "Predicted=[189.3292]\n",
      "Predicted=[220.49498]\n",
      "Predicted=[251.08754]\n",
      "Predicted=[243.4816]\n",
      "Predicted=[239.52934]\n",
      "Predicted=[256.53336]\n",
      "Predicted=[249.22319]\n",
      "Predicted=[291.2063]\n",
      "Predicted=[241.51797]\n",
      "Predicted=[303.6182]\n",
      "Predicted=[286.0462]\n",
      "Predicted=[296.01685]\n",
      "Predicted=[299.40012]\n",
      "Predicted=[322.35376]\n",
      "Predicted=[315.11075]\n",
      "Predicted=[316.59076]\n",
      "Predicted=[327.127]\n",
      "Predicted=[330.5538]\n",
      "Predicted=[330.31662]\n",
      "Predicted=[330.33612]\n",
      "Predicted=[330.74265]\n",
      "Predicted=[327.43002]\n",
      "Predicted=[332.42157]\n",
      "Predicted=[320.52203]\n",
      "Predicted=[324.66293]\n",
      "Predicted=[329.89072]\n",
      "Predicted=[328.03903]\n",
      "Predicted=[322.26367]\n",
      "Predicted=[332.3135]\n",
      "Predicted=[329.6538]\n",
      "Predicted=[322.68173]\n",
      "Predicted=[320.0698]\n",
      "Predicted=[330.54428]\n",
      "Predicted=[332.05807]\n",
      "Predicted=[332.3135]\n",
      "Predicted=[330.9851]\n",
      "Predicted=[331.4355]\n",
      "Predicted=[321.4066]\n",
      "Predicted=[312.0057]\n",
      "Predicted=[305.67996]\n",
      "Predicted=[317.222]\n",
      "Predicted=[316.22385]\n"
     ]
    }
   ],
   "source": [
    "for i in range(len(testX)):\n",
    "    print(\"Predicted=%s\" % (yhat[i]*1000))"
   ]
  },
  {
   "cell_type": "code",
   "execution_count": null,
   "metadata": {},
   "outputs": [],
   "source": []
  }
 ],
 "metadata": {
  "kernelspec": {
   "display_name": "Python 3",
   "language": "python",
   "name": "python3"
  },
  "language_info": {
   "codemirror_mode": {
    "name": "ipython",
    "version": 3
   },
   "file_extension": ".py",
   "mimetype": "text/x-python",
   "name": "python",
   "nbconvert_exporter": "python",
   "pygments_lexer": "ipython3",
   "version": "3.8.3"
  }
 },
 "nbformat": 4,
 "nbformat_minor": 4
}
