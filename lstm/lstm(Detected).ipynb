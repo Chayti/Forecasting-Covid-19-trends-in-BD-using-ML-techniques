{
 "cells": [
  {
   "cell_type": "code",
   "execution_count": 1,
   "metadata": {},
   "outputs": [],
   "source": [
    "import numpy\n",
    "import matplotlib.pyplot as plt\n",
    "import pandas\n",
    "import math\n",
    "from keras.models import Sequential\n",
    "from keras.layers import Dense\n",
    "from keras.layers import LSTM\n",
    "from sklearn.preprocessing import MinMaxScaler\n",
    "from sklearn import metrics "
   ]
  },
  {
   "cell_type": "code",
   "execution_count": 2,
   "metadata": {},
   "outputs": [],
   "source": [
    "# convert an array of values into a dataset matrix\n",
    "#split a univariate sequence into samples/dataset\n",
    "def create_dataset(dataset, look_back=1):\n",
    "    dataX, dataY = [], []\n",
    "    for i in range(len(dataset)-look_back-1):\n",
    "        a = dataset[i:(i+look_back), 0]\n",
    "        #gather input and output parts of the pattern\n",
    "        dataX.append(a)\n",
    "        dataY.append(dataset[i + look_back, 0])\n",
    "    return numpy.array(dataX), numpy.array(dataY)\n"
   ]
  },
  {
   "cell_type": "code",
   "execution_count": 3,
   "metadata": {},
   "outputs": [],
   "source": [
    "# fix random seed for reproducibility\n",
    "numpy.random.seed(7)\n"
   ]
  },
  {
   "cell_type": "code",
   "execution_count": 4,
   "metadata": {},
   "outputs": [],
   "source": [
    "df= pandas.read_excel('D:\\8th sem\\Covid-19-dataset-for-Bangladesh(Detected).xlsx',usecols=[1])"
   ]
  },
  {
   "cell_type": "code",
   "execution_count": 5,
   "metadata": {},
   "outputs": [
    {
     "data": {
      "text/plain": [
       "Detected per day    0\n",
       "dtype: int64"
      ]
     },
     "execution_count": 5,
     "metadata": {},
     "output_type": "execute_result"
    }
   ],
   "source": [
    "df.isna().sum()"
   ]
  },
  {
   "cell_type": "code",
   "execution_count": 6,
   "metadata": {},
   "outputs": [],
   "source": [
    "df=df.ffill()"
   ]
  },
  {
   "cell_type": "code",
   "execution_count": 7,
   "metadata": {},
   "outputs": [
    {
     "data": {
      "text/plain": [
       "(511, 1)"
      ]
     },
     "execution_count": 7,
     "metadata": {},
     "output_type": "execute_result"
    }
   ],
   "source": [
    "df.shape"
   ]
  },
  {
   "cell_type": "code",
   "execution_count": 8,
   "metadata": {},
   "outputs": [],
   "source": [
    "#df['Date'] = pandas.to_numeric(pandas.to_datetime(df['Date']))\n",
    "dataset=df.values\n",
    "dataset = dataset.astype('float32')"
   ]
  },
  {
   "cell_type": "code",
   "execution_count": 9,
   "metadata": {},
   "outputs": [],
   "source": [
    "scaler = MinMaxScaler(feature_range=(0, 1))\n",
    "dataset = scaler.fit_transform(dataset)"
   ]
  },
  {
   "cell_type": "code",
   "execution_count": 10,
   "metadata": {},
   "outputs": [
    {
     "name": "stdout",
     "output_type": "stream",
     "text": [
      "358 153\n"
     ]
    }
   ],
   "source": [
    "# split into train and test sets\n",
    "train_size = int(len(dataset) * 0.701)\n",
    "test_size = len(dataset) - train_size\n",
    "train, test = dataset[0:train_size,:], dataset[train_size:len(dataset),:]\n",
    "print(len(train), len(test))"
   ]
  },
  {
   "cell_type": "code",
   "execution_count": 11,
   "metadata": {},
   "outputs": [],
   "source": [
    "# reshape into X=t and Y=t+1\n",
    "look_back = 1\n",
    "trainX, trainY = create_dataset(train, look_back)\n",
    "testX, testY = create_dataset(test, look_back)"
   ]
  },
  {
   "cell_type": "code",
   "execution_count": 12,
   "metadata": {},
   "outputs": [],
   "source": [
    "# reshape input to be [samples, time steps, features]\n",
    "trainX = numpy.reshape(trainX, (trainX.shape[0], 1, trainX.shape[1]))\n",
    "testX = numpy.reshape(testX, (testX.shape[0], 1, testX.shape[1]))"
   ]
  },
  {
   "cell_type": "code",
   "execution_count": 13,
   "metadata": {},
   "outputs": [
    {
     "name": "stdout",
     "output_type": "stream",
     "text": [
      "Epoch 1/100\n",
      "356/356 - 1s - loss: 0.0060\n",
      "Epoch 2/100\n",
      "356/356 - 1s - loss: 0.0043\n",
      "Epoch 3/100\n",
      "356/356 - 1s - loss: 0.0036\n",
      "Epoch 4/100\n",
      "356/356 - 1s - loss: 0.0027\n",
      "Epoch 5/100\n",
      "356/356 - 1s - loss: 0.0017\n",
      "Epoch 6/100\n",
      "356/356 - 1s - loss: 8.1432e-04\n",
      "Epoch 7/100\n",
      "356/356 - 1s - loss: 3.9931e-04\n",
      "Epoch 8/100\n",
      "356/356 - 1s - loss: 2.9254e-04\n",
      "Epoch 9/100\n",
      "356/356 - 1s - loss: 2.7921e-04\n",
      "Epoch 10/100\n",
      "356/356 - 1s - loss: 2.7589e-04\n",
      "Epoch 11/100\n",
      "356/356 - 1s - loss: 2.7604e-04\n",
      "Epoch 12/100\n",
      "356/356 - 1s - loss: 2.7468e-04\n",
      "Epoch 13/100\n",
      "356/356 - 1s - loss: 2.6989e-04\n",
      "Epoch 14/100\n",
      "356/356 - 1s - loss: 2.7578e-04\n",
      "Epoch 15/100\n",
      "356/356 - 1s - loss: 2.7605e-04\n",
      "Epoch 16/100\n",
      "356/356 - 1s - loss: 2.7849e-04\n",
      "Epoch 17/100\n",
      "356/356 - 1s - loss: 2.7479e-04\n",
      "Epoch 18/100\n",
      "356/356 - 1s - loss: 2.8180e-04\n",
      "Epoch 19/100\n",
      "356/356 - 1s - loss: 2.7474e-04\n",
      "Epoch 20/100\n",
      "356/356 - 1s - loss: 2.7963e-04\n",
      "Epoch 21/100\n",
      "356/356 - 1s - loss: 2.7007e-04\n",
      "Epoch 22/100\n",
      "356/356 - 1s - loss: 2.7336e-04\n",
      "Epoch 23/100\n",
      "356/356 - 1s - loss: 2.8068e-04\n",
      "Epoch 24/100\n",
      "356/356 - 1s - loss: 2.7262e-04\n",
      "Epoch 25/100\n",
      "356/356 - 1s - loss: 2.6828e-04\n",
      "Epoch 26/100\n",
      "356/356 - 1s - loss: 2.7911e-04\n",
      "Epoch 27/100\n",
      "356/356 - 1s - loss: 2.7218e-04\n",
      "Epoch 28/100\n",
      "356/356 - 1s - loss: 2.7481e-04\n",
      "Epoch 29/100\n",
      "356/356 - 1s - loss: 2.7102e-04\n",
      "Epoch 30/100\n",
      "356/356 - 1s - loss: 2.7256e-04\n",
      "Epoch 31/100\n",
      "356/356 - 1s - loss: 2.6520e-04\n",
      "Epoch 32/100\n",
      "356/356 - 1s - loss: 2.7684e-04\n",
      "Epoch 33/100\n",
      "356/356 - 1s - loss: 2.7555e-04\n",
      "Epoch 34/100\n",
      "356/356 - 1s - loss: 2.7396e-04\n",
      "Epoch 35/100\n",
      "356/356 - 1s - loss: 2.8105e-04\n",
      "Epoch 36/100\n",
      "356/356 - 1s - loss: 2.6903e-04\n",
      "Epoch 37/100\n",
      "356/356 - 1s - loss: 2.7274e-04\n",
      "Epoch 38/100\n",
      "356/356 - 1s - loss: 2.7444e-04\n",
      "Epoch 39/100\n",
      "356/356 - 1s - loss: 2.6692e-04\n",
      "Epoch 40/100\n",
      "356/356 - 1s - loss: 2.6867e-04\n",
      "Epoch 41/100\n",
      "356/356 - 1s - loss: 2.6951e-04\n",
      "Epoch 42/100\n",
      "356/356 - 1s - loss: 2.7491e-04\n",
      "Epoch 43/100\n",
      "356/356 - 1s - loss: 2.7353e-04\n",
      "Epoch 44/100\n",
      "356/356 - 1s - loss: 2.7913e-04\n",
      "Epoch 45/100\n",
      "356/356 - 1s - loss: 2.6961e-04\n",
      "Epoch 46/100\n",
      "356/356 - 1s - loss: 2.7043e-04\n",
      "Epoch 47/100\n",
      "356/356 - 1s - loss: 2.8245e-04\n",
      "Epoch 48/100\n",
      "356/356 - 1s - loss: 2.6888e-04\n",
      "Epoch 49/100\n",
      "356/356 - 1s - loss: 2.7394e-04\n",
      "Epoch 50/100\n",
      "356/356 - 1s - loss: 2.7036e-04\n",
      "Epoch 51/100\n",
      "356/356 - 1s - loss: 2.7000e-04\n",
      "Epoch 52/100\n",
      "356/356 - 1s - loss: 2.8108e-04\n",
      "Epoch 53/100\n",
      "356/356 - 1s - loss: 2.7013e-04\n",
      "Epoch 54/100\n",
      "356/356 - 1s - loss: 2.7381e-04\n",
      "Epoch 55/100\n",
      "356/356 - 1s - loss: 2.7825e-04\n",
      "Epoch 56/100\n",
      "356/356 - 1s - loss: 2.6932e-04\n",
      "Epoch 57/100\n",
      "356/356 - 1s - loss: 2.7199e-04\n",
      "Epoch 58/100\n",
      "356/356 - 1s - loss: 2.6775e-04\n",
      "Epoch 59/100\n",
      "356/356 - 1s - loss: 2.7367e-04\n",
      "Epoch 60/100\n",
      "356/356 - 1s - loss: 2.7983e-04\n",
      "Epoch 61/100\n",
      "356/356 - 1s - loss: 2.6760e-04\n",
      "Epoch 62/100\n",
      "356/356 - 1s - loss: 2.7500e-04\n",
      "Epoch 63/100\n",
      "356/356 - 1s - loss: 2.6333e-04\n",
      "Epoch 64/100\n",
      "356/356 - 1s - loss: 2.6867e-04\n",
      "Epoch 65/100\n",
      "356/356 - 1s - loss: 2.6425e-04\n",
      "Epoch 66/100\n",
      "356/356 - 1s - loss: 2.7979e-04\n",
      "Epoch 67/100\n",
      "356/356 - 1s - loss: 2.6213e-04\n",
      "Epoch 68/100\n",
      "356/356 - 1s - loss: 2.6965e-04\n",
      "Epoch 69/100\n",
      "356/356 - 1s - loss: 2.7076e-04\n",
      "Epoch 70/100\n",
      "356/356 - 1s - loss: 2.6949e-04\n",
      "Epoch 71/100\n",
      "356/356 - 1s - loss: 2.7594e-04\n",
      "Epoch 72/100\n",
      "356/356 - 1s - loss: 2.7647e-04\n",
      "Epoch 73/100\n",
      "356/356 - 1s - loss: 2.7541e-04\n",
      "Epoch 74/100\n",
      "356/356 - 1s - loss: 2.6826e-04\n",
      "Epoch 75/100\n",
      "356/356 - 1s - loss: 2.7011e-04\n",
      "Epoch 76/100\n",
      "356/356 - 1s - loss: 2.6869e-04\n",
      "Epoch 77/100\n",
      "356/356 - 1s - loss: 2.7393e-04\n",
      "Epoch 78/100\n",
      "356/356 - 1s - loss: 2.7129e-04\n",
      "Epoch 79/100\n",
      "356/356 - 1s - loss: 2.6506e-04\n",
      "Epoch 80/100\n",
      "356/356 - 1s - loss: 2.7005e-04\n",
      "Epoch 81/100\n",
      "356/356 - 1s - loss: 2.6418e-04\n",
      "Epoch 82/100\n",
      "356/356 - 1s - loss: 2.6809e-04\n",
      "Epoch 83/100\n",
      "356/356 - 1s - loss: 2.6885e-04\n",
      "Epoch 84/100\n",
      "356/356 - 1s - loss: 2.6723e-04\n",
      "Epoch 85/100\n",
      "356/356 - 1s - loss: 2.6839e-04\n",
      "Epoch 86/100\n",
      "356/356 - 1s - loss: 2.6999e-04\n",
      "Epoch 87/100\n",
      "356/356 - 1s - loss: 2.7349e-04\n",
      "Epoch 88/100\n",
      "356/356 - 1s - loss: 2.6450e-04\n",
      "Epoch 89/100\n",
      "356/356 - 1s - loss: 2.7891e-04\n",
      "Epoch 90/100\n",
      "356/356 - 1s - loss: 2.6977e-04\n",
      "Epoch 91/100\n",
      "356/356 - 1s - loss: 2.6164e-04\n",
      "Epoch 92/100\n",
      "356/356 - 1s - loss: 2.6241e-04\n",
      "Epoch 93/100\n",
      "356/356 - 1s - loss: 2.6976e-04\n",
      "Epoch 94/100\n",
      "356/356 - 1s - loss: 2.6348e-04\n",
      "Epoch 95/100\n",
      "356/356 - 1s - loss: 2.5867e-04\n",
      "Epoch 96/100\n",
      "356/356 - 1s - loss: 2.7091e-04\n",
      "Epoch 97/100\n",
      "356/356 - 1s - loss: 2.6728e-04\n",
      "Epoch 98/100\n",
      "356/356 - 1s - loss: 2.7165e-04\n",
      "Epoch 99/100\n",
      "356/356 - 1s - loss: 2.6654e-04\n",
      "Epoch 100/100\n",
      "356/356 - 1s - loss: 2.6718e-04\n"
     ]
    },
    {
     "data": {
      "text/plain": [
       "<tensorflow.python.keras.callbacks.History at 0x216ca14b400>"
      ]
     },
     "execution_count": 13,
     "metadata": {},
     "output_type": "execute_result"
    }
   ],
   "source": [
    "# create and fit the LSTM network\n",
    "model = Sequential()\n",
    "model.add(LSTM(4, input_shape=(1, look_back)))\n",
    "model.add(Dense(1))\n",
    "model.compile(loss='mean_squared_error', optimizer='adam')\n",
    "model.fit(trainX, trainY, epochs=100, batch_size=1, verbose=2)"
   ]
  },
  {
   "cell_type": "code",
   "execution_count": 14,
   "metadata": {},
   "outputs": [],
   "source": [
    "# make predictions\n",
    "trainPredict = model.predict(trainX)\n",
    "testPredict = model.predict(testX)\n"
   ]
  },
  {
   "cell_type": "code",
   "execution_count": 15,
   "metadata": {},
   "outputs": [],
   "source": [
    "# invert predictions\n",
    "trainPredict = scaler.inverse_transform(trainPredict)\n",
    "trainY = scaler.inverse_transform([trainY])\n",
    "testPredict = scaler.inverse_transform(testPredict)\n",
    "testY = scaler.inverse_transform([testY])"
   ]
  },
  {
   "cell_type": "code",
   "execution_count": 16,
   "metadata": {},
   "outputs": [
    {
     "name": "stdout",
     "output_type": "stream",
     "text": [
      "Train Score: 259.24 RMSE\n",
      "Test Score: 1836.79 RMSE\n"
     ]
    }
   ],
   "source": [
    "# calculate root mean squared error\n",
    "trainScore = math.sqrt(metrics.mean_squared_error(trainY[0], trainPredict[:,0]))\n",
    "print('Train Score: %.2f RMSE' % (trainScore))\n",
    "testScore = math.sqrt(metrics.mean_squared_error(testY[0], testPredict[:,0]))\n",
    "print('Test Score: %.2f RMSE' % (testScore))"
   ]
  },
  {
   "cell_type": "code",
   "execution_count": 17,
   "metadata": {},
   "outputs": [
    {
     "name": "stdout",
     "output_type": "stream",
     "text": [
      "Train Score: 67202.94 MSE\n",
      "Test Score: 3373783.37 MSE\n"
     ]
    }
   ],
   "source": [
    "# calculate mean squared error\n",
    "trainScore = metrics.mean_squared_error(trainY[0], trainPredict[:,0])\n",
    "print('Train Score: %.2f MSE' % (trainScore))\n",
    "testScore = metrics.mean_squared_error(testY[0], testPredict[:,0])\n",
    "print('Test Score: %.2f MSE' % (testScore))"
   ]
  },
  {
   "cell_type": "code",
   "execution_count": 18,
   "metadata": {},
   "outputs": [
    {
     "name": "stdout",
     "output_type": "stream",
     "text": [
      "Train Score: 179.76 MAE\n",
      "Test Score: 1056.36 MAE\n"
     ]
    }
   ],
   "source": [
    "# calculate mean absolute error\n",
    "trainScore = metrics.mean_absolute_error(trainY[0], trainPredict[:,0])\n",
    "print('Train Score: %.2f MAE' % (trainScore))\n",
    "testScore = metrics.mean_absolute_error(testY[0], testPredict[:,0])\n",
    "print('Test Score: %.2f MAE' % (testScore))"
   ]
  },
  {
   "cell_type": "code",
   "execution_count": 19,
   "metadata": {},
   "outputs": [],
   "source": [
    "# shift train predictions for plotting\n",
    "trainPredictPlot = numpy.empty_like(dataset)\n",
    "trainPredictPlot[:, :] = numpy.nan\n",
    "trainPredictPlot[look_back:len(trainPredict)+look_back, :] = trainPredict"
   ]
  },
  {
   "cell_type": "code",
   "execution_count": 20,
   "metadata": {},
   "outputs": [],
   "source": [
    "# shift test predictions for plotting\n",
    "testPredictPlot = numpy.empty_like(dataset)\n",
    "testPredictPlot[:, :] = numpy.nan\n",
    "testPredictPlot[len(trainPredict)+(look_back*2)+1:len(dataset)-1, :] = testPredict"
   ]
  },
  {
   "cell_type": "code",
   "execution_count": 21,
   "metadata": {},
   "outputs": [
    {
     "data": {
      "image/png": "[encoded data removed]",
      "text/plain": [
       "<Figure size 1080x576 with 1 Axes>"
      ]
     },
     "metadata": {
      "needs_background": "light"
     },
     "output_type": "display_data"
    }
   ],
   "source": [
    "# plot baseline and predictions\n",
    "plt.figure(figsize=(15,8))\n",
    "plt.plot(scaler.inverse_transform(dataset))#original-blue\n",
    "plt.plot(trainPredictPlot)#orange\n",
    "plt.plot(testPredictPlot)#green\n",
    "plt.legend(['Original','predictions of training dataset','predictions on test dataset'])\n",
    "plt.show()"
   ]
  },
  {
   "cell_type": "code",
   "execution_count": 22,
   "metadata": {},
   "outputs": [],
   "source": [
    "yhat = model.predict(testX, verbose=0)"
   ]
  },
  {
   "cell_type": "code",
   "execution_count": 23,
   "metadata": {},
   "outputs": [
    {
     "name": "stdout",
     "output_type": "stream",
     "text": [
      "Predicted=[36.1949]\n",
      "Predicted=[31.970915]\n",
      "Predicted=[37.946033]\n",
      "Predicted=[38.24802]\n",
      "Predicted=[39.214497]\n",
      "Predicted=[33.47898]\n",
      "Predicted=[37.462902]\n",
      "Predicted=[51.912968]\n",
      "Predicted=[55.967777]\n",
      "Predicted=[62.38376]\n",
      "Predicted=[64.381096]\n",
      "Predicted=[65.288925]\n",
      "Predicted=[62.14165]\n",
      "Predicted=[70.91621]\n",
      "Predicted=[107.91087]\n",
      "Predicted=[104.674706]\n",
      "Predicted=[113.413605]\n",
      "Predicted=[132.54788]\n",
      "Predicted=[115.44359]\n",
      "Predicted=[113.59285]\n",
      "Predicted=[131.6614]\n",
      "Predicted=[168.78673]\n",
      "Predicted=[210.5234]\n",
      "Predicted=[211.23282]\n",
      "Predicted=[212.32281]\n",
      "Predicted=[220.44516]\n",
      "Predicted=[217.04521]\n",
      "Predicted=[229.58823]\n",
      "Predicted=[293.4636]\n",
      "Predicted=[286.86194]\n",
      "Predicted=[301.73483]\n",
      "Predicted=[350.2177]\n",
      "Predicted=[364.7259]\n",
      "Predicted=[316.5282]\n",
      "Predicted=[374.69727]\n",
      "Predicted=[374.23816]\n",
      "Predicted=[379.47992]\n",
      "Predicted=[394.6813]\n",
      "Predicted=[365.66943]\n",
      "Predicted=[388.7309]\n",
      "Predicted=[301.03976]\n",
      "Predicted=[322.56754]\n",
      "Predicted=[379.02744]\n",
      "Predicted=[331.676]\n",
      "Predicted=[293.6522]\n",
      "Predicted=[244.48947]\n",
      "Predicted=[256.03577]\n",
      "Predicted=[206.08784]\n",
      "Predicted=[218.34244]\n",
      "Predicted=[248.57002]\n",
      "Predicted=[263.20193]\n",
      "Predicted=[249.03308]\n",
      "Predicted=[235.19194]\n",
      "Predicted=[214.60654]\n",
      "Predicted=[162.34413]\n",
      "Predicted=[175.24567]\n",
      "Predicted=[196.86052]\n",
      "Predicted=[181.435]\n",
      "Predicted=[177.12384]\n",
      "Predicted=[141.61806]\n",
      "Predicted=[131.95695]\n",
      "Predicted=[88.61614]\n",
      "Predicted=[83.00468]\n",
      "Predicted=[105.8738]\n",
      "Predicted=[116.33849]\n",
      "Predicted=[106.05363]\n",
      "Predicted=[110.84345]\n",
      "Predicted=[102.45483]\n",
      "Predicted=[78.53474]\n",
      "Predicted=[84.63457]\n",
      "Predicted=[92.35258]\n",
      "Predicted=[75.21019]\n",
      "Predicted=[69.76677]\n",
      "Predicted=[78.83688]\n",
      "Predicted=[52.09451]\n",
      "Predicted=[16.68841]\n",
      "Predicted=[22.815893]\n",
      "Predicted=[43.021667]\n",
      "Predicted=[77.74909]\n",
      "Predicted=[98.0094]\n",
      "Predicted=[88.9176]\n",
      "Predicted=[91.75021]\n",
      "Predicted=[62.989025]\n",
      "Predicted=[82.70278]\n",
      "Predicted=[87.95282]\n",
      "Predicted=[102.034615]\n",
      "Predicted=[91.32846]\n",
      "Predicted=[78.95773]\n",
      "Predicted=[82.9443]\n",
      "Predicted=[63.896896]\n",
      "Predicted=[88.133736]\n",
      "Predicted=[104.13493]\n",
      "Predicted=[107.43172]\n",
      "Predicted=[120.74722]\n",
      "Predicted=[102.75492]\n",
      "Predicted=[114.72737]\n",
      "Predicted=[88.31466]\n",
      "Predicted=[102.094666]\n",
      "Predicted=[119.67582]\n",
      "Predicted=[140.50218]\n",
      "Predicted=[153.07356]\n",
      "Predicted=[155.34023]\n",
      "Predicted=[148.23523]\n",
      "Predicted=[99.75239]\n",
      "Predicted=[147.18346]\n",
      "Predicted=[182.50961]\n",
      "Predicted=[197.58272]\n",
      "Predicted=[232.13184]\n",
      "Predicted=[225.96742]\n",
      "Predicted=[228.25937]\n",
      "Predicted=[182.90523]\n",
      "Predicted=[215.25768]\n",
      "Predicted=[267.04825]\n",
      "Predicted=[277.39508]\n",
      "Predicted=[318.49185]\n",
      "Predicted=[332.9664]\n",
      "Predicted=[324.76553]\n",
      "Predicted=[251.80363]\n",
      "Predicted=[297.54807]\n",
      "Predicted=[420.12225]\n",
      "Predicted=[396.1158]\n",
      "Predicted=[434.87744]\n",
      "Predicted=[418.0327]\n",
      "Predicted=[424.02905]\n",
      "Predicted=[339.6077]\n",
      "Predicted=[429.77634]\n",
      "Predicted=[468.60522]\n",
      "Predicted=[508.7707]\n",
      "Predicted=[499.9617]\n",
      "Predicted=[511.76053]\n",
      "Predicted=[503.9295]\n",
      "Predicted=[433.30298]\n",
      "Predicted=[516.9702]\n",
      "Predicted=[557.52765]\n",
      "Predicted=[524.3605]\n",
      "Predicted=[528.48926]\n",
      "Predicted=[525.2138]\n",
      "Predicted=[523.23346]\n",
      "Predicted=[424.22464]\n",
      "Predicted=[510.03247]\n",
      "Predicted=[548.49243]\n",
      "Predicted=[510.05624]\n",
      "Predicted=[394.2497]\n",
      "Predicted=[218.28842]\n",
      "Predicted=[345.8856]\n",
      "Predicted=[362.75174]\n",
      "Predicted=[503.1261]\n",
      "Predicted=[584.5006]\n",
      "Predicted=[579.6342]\n",
      "Predicted=[602.68994]\n",
      "Predicted=[585.92505]\n"
     ]
    }
   ],
   "source": [
    "for i in range(len(testX)):\n",
    "    print(\"Predicted=%s\" % (yhat[i]*1000))"
   ]
  },
  {
   "cell_type": "code",
   "execution_count": null,
   "metadata": {},
   "outputs": [],
   "source": []
  }
 ],
 "metadata": {
  "kernelspec": {
   "display_name": "Python 3",
   "language": "python",
   "name": "python3"
  },
  "language_info": {
   "codemirror_mode": {
    "name": "ipython",
    "version": 3
   },
   "file_extension": ".py",
   "mimetype": "text/x-python",
   "name": "python",
   "nbconvert_exporter": "python",
   "pygments_lexer": "ipython3",
   "version": "3.8.3"
  }
 },
 "nbformat": 4,
 "nbformat_minor": 4
}
