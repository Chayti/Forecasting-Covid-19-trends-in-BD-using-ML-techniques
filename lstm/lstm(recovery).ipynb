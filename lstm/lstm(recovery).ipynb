{
 "cells": [
  {
   "cell_type": "code",
   "execution_count": 1,
   "metadata": {},
   "outputs": [],
   "source": [
    "import numpy\n",
    "import matplotlib.pyplot as plt\n",
    "import pandas\n",
    "import math\n",
    "from keras.models import Sequential\n",
    "from keras.layers import Dense\n",
    "from keras.layers import LSTM\n",
    "from sklearn.preprocessing import MinMaxScaler\n",
    "from sklearn import metrics "
   ]
  },
  {
   "cell_type": "code",
   "execution_count": 2,
   "metadata": {},
   "outputs": [],
   "source": [
    "# convert an array of values into a dataset matrix\n",
    "#split a univariate sequence into samples/dataset\n",
    "def create_dataset(dataset, look_back=1):\n",
    "    dataX, dataY = [], []\n",
    "    for i in range(len(dataset)-look_back-1):\n",
    "        a = dataset[i:(i+look_back), 0]\n",
    "        #gather input and output parts of the pattern\n",
    "        dataX.append(a)\n",
    "        dataY.append(dataset[i + look_back, 0])\n",
    "    return numpy.array(dataX), numpy.array(dataY)\n"
   ]
  },
  {
   "cell_type": "code",
   "execution_count": 3,
   "metadata": {},
   "outputs": [],
   "source": [
    "# fix random seed for reproducibility\n",
    "numpy.random.seed(7)\n"
   ]
  },
  {
   "cell_type": "code",
   "execution_count": 4,
   "metadata": {},
   "outputs": [],
   "source": [
    "df= pandas.read_excel('D:\\8th sem\\Covid-19-dataset-for-Bangladesh(recovery).xlsx',usecols=[1])"
   ]
  },
  {
   "cell_type": "code",
   "execution_count": 5,
   "metadata": {},
   "outputs": [
    {
     "data": {
      "text/plain": [
       "Recovery per day    3\n",
       "dtype: int64"
      ]
     },
     "execution_count": 5,
     "metadata": {},
     "output_type": "execute_result"
    }
   ],
   "source": [
    "df.isna().sum()"
   ]
  },
  {
   "cell_type": "code",
   "execution_count": 6,
   "metadata": {},
   "outputs": [
    {
     "data": {
      "text/html": [
       "<div>\n",
       "<style scoped>\n",
       "    .dataframe tbody tr th:only-of-type {\n",
       "        vertical-align: middle;\n",
       "    }\n",
       "\n",
       "    .dataframe tbody tr th {\n",
       "        vertical-align: top;\n",
       "    }\n",
       "\n",
       "    .dataframe thead th {\n",
       "        text-align: right;\n",
       "    }\n",
       "</style>\n",
       "<table border=\"1\" class=\"dataframe\">\n",
       "  <thead>\n",
       "    <tr style=\"text-align: right;\">\n",
       "      <th></th>\n",
       "      <th>Recovery per day</th>\n",
       "    </tr>\n",
       "  </thead>\n",
       "  <tbody>\n",
       "    <tr>\n",
       "      <th>0</th>\n",
       "      <td>False</td>\n",
       "    </tr>\n",
       "    <tr>\n",
       "      <th>1</th>\n",
       "      <td>False</td>\n",
       "    </tr>\n",
       "    <tr>\n",
       "      <th>2</th>\n",
       "      <td>False</td>\n",
       "    </tr>\n",
       "    <tr>\n",
       "      <th>3</th>\n",
       "      <td>False</td>\n",
       "    </tr>\n",
       "    <tr>\n",
       "      <th>4</th>\n",
       "      <td>False</td>\n",
       "    </tr>\n",
       "    <tr>\n",
       "      <th>...</th>\n",
       "      <td>...</td>\n",
       "    </tr>\n",
       "    <tr>\n",
       "      <th>506</th>\n",
       "      <td>False</td>\n",
       "    </tr>\n",
       "    <tr>\n",
       "      <th>507</th>\n",
       "      <td>False</td>\n",
       "    </tr>\n",
       "    <tr>\n",
       "      <th>508</th>\n",
       "      <td>False</td>\n",
       "    </tr>\n",
       "    <tr>\n",
       "      <th>509</th>\n",
       "      <td>False</td>\n",
       "    </tr>\n",
       "    <tr>\n",
       "      <th>510</th>\n",
       "      <td>False</td>\n",
       "    </tr>\n",
       "  </tbody>\n",
       "</table>\n",
       "<p>511 rows × 1 columns</p>\n",
       "</div>"
      ],
      "text/plain": [
       "     Recovery per day\n",
       "0               False\n",
       "1               False\n",
       "2               False\n",
       "3               False\n",
       "4               False\n",
       "..                ...\n",
       "506             False\n",
       "507             False\n",
       "508             False\n",
       "509             False\n",
       "510             False\n",
       "\n",
       "[511 rows x 1 columns]"
      ]
     },
     "execution_count": 6,
     "metadata": {},
     "output_type": "execute_result"
    }
   ],
   "source": [
    "df.isna()"
   ]
  },
  {
   "cell_type": "code",
   "execution_count": 8,
   "metadata": {},
   "outputs": [
    {
     "data": {
      "text/plain": [
       "[29, 56, 99]"
      ]
     },
     "execution_count": 8,
     "metadata": {},
     "output_type": "execute_result"
    }
   ],
   "source": [
    "missin_idx=df[df['Recovery per day'].isnull()].index.tolist()\n",
    "#missin_idx=df.isnull().index.tolist()\n",
    "missin_idx"
   ]
  },
  {
   "cell_type": "code",
   "execution_count": 10,
   "metadata": {},
   "outputs": [],
   "source": [
    "for midx in missin_idx:\n",
    "    df['Recovery per day'][midx] = numpy.mean(df['Recovery per day'][midx-4:midx+4])"
   ]
  },
  {
   "cell_type": "code",
   "execution_count": 11,
   "metadata": {},
   "outputs": [
    {
     "data": {
      "text/plain": [
       "(511, 1)"
      ]
     },
     "execution_count": 11,
     "metadata": {},
     "output_type": "execute_result"
    }
   ],
   "source": [
    "df.shape"
   ]
  },
  {
   "cell_type": "code",
   "execution_count": 12,
   "metadata": {},
   "outputs": [
    {
     "data": {
      "text/plain": [
       "Recovery per day    0\n",
       "dtype: int64"
      ]
     },
     "execution_count": 12,
     "metadata": {},
     "output_type": "execute_result"
    }
   ],
   "source": [
    "df.isna().sum()"
   ]
  },
  {
   "cell_type": "code",
   "execution_count": 13,
   "metadata": {},
   "outputs": [],
   "source": [
    "#df['Date'] = pandas.to_numeric(pandas.to_datetime(df['Date']))\n",
    "dataset=df.values\n",
    "dataset = dataset.astype('float32')"
   ]
  },
  {
   "cell_type": "code",
   "execution_count": 14,
   "metadata": {},
   "outputs": [],
   "source": [
    "scaler = MinMaxScaler(feature_range=(0, 1))\n",
    "dataset = scaler.fit_transform(dataset)"
   ]
  },
  {
   "cell_type": "code",
   "execution_count": 18,
   "metadata": {},
   "outputs": [
    {
     "name": "stdout",
     "output_type": "stream",
     "text": [
      "358 153\n"
     ]
    }
   ],
   "source": [
    "# split into train and test sets\n",
    "train_size = int(len(dataset) * 0.701)\n",
    "test_size = len(dataset) - train_size\n",
    "train, test = dataset[0:train_size,:], dataset[train_size:len(dataset),:]\n",
    "print(len(train), len(test))"
   ]
  },
  {
   "cell_type": "code",
   "execution_count": 19,
   "metadata": {},
   "outputs": [],
   "source": [
    "# reshape into X=t and Y=t+1\n",
    "look_back = 1\n",
    "trainX, trainY = create_dataset(train, look_back)\n",
    "testX, testY = create_dataset(test, look_back)"
   ]
  },
  {
   "cell_type": "code",
   "execution_count": 20,
   "metadata": {},
   "outputs": [],
   "source": [
    "# reshape input to be [samples, time steps, features]\n",
    "trainX = numpy.reshape(trainX, (trainX.shape[0], 1, trainX.shape[1]))\n",
    "testX = numpy.reshape(testX, (testX.shape[0], 1, testX.shape[1]))"
   ]
  },
  {
   "cell_type": "code",
   "execution_count": 21,
   "metadata": {},
   "outputs": [
    {
     "name": "stdout",
     "output_type": "stream",
     "text": [
      "Epoch 1/100\n",
      "356/356 - 1s - loss: 0.0048\n",
      "Epoch 2/100\n",
      "356/356 - 1s - loss: 0.0035\n",
      "Epoch 3/100\n",
      "356/356 - 1s - loss: 0.0027\n",
      "Epoch 4/100\n",
      "356/356 - 1s - loss: 0.0021\n",
      "Epoch 5/100\n",
      "356/356 - 1s - loss: 0.0018\n",
      "Epoch 6/100\n",
      "356/356 - 1s - loss: 0.0017\n",
      "Epoch 7/100\n",
      "356/356 - 1s - loss: 0.0017\n",
      "Epoch 8/100\n",
      "356/356 - 1s - loss: 0.0017\n",
      "Epoch 9/100\n",
      "356/356 - 1s - loss: 0.0017\n",
      "Epoch 10/100\n",
      "356/356 - 1s - loss: 0.0017\n",
      "Epoch 11/100\n",
      "356/356 - 1s - loss: 0.0017\n",
      "Epoch 12/100\n",
      "356/356 - 1s - loss: 0.0017\n",
      "Epoch 13/100\n",
      "356/356 - 1s - loss: 0.0017\n",
      "Epoch 14/100\n",
      "356/356 - 1s - loss: 0.0017\n",
      "Epoch 15/100\n",
      "356/356 - 1s - loss: 0.0017\n",
      "Epoch 16/100\n",
      "356/356 - 1s - loss: 0.0017\n",
      "Epoch 17/100\n",
      "356/356 - 1s - loss: 0.0016\n",
      "Epoch 18/100\n",
      "356/356 - 1s - loss: 0.0017\n",
      "Epoch 19/100\n",
      "356/356 - 1s - loss: 0.0017\n",
      "Epoch 20/100\n",
      "356/356 - 1s - loss: 0.0017\n",
      "Epoch 21/100\n",
      "356/356 - 1s - loss: 0.0016\n",
      "Epoch 22/100\n",
      "356/356 - 1s - loss: 0.0017\n",
      "Epoch 23/100\n",
      "356/356 - 1s - loss: 0.0016\n",
      "Epoch 24/100\n",
      "356/356 - 1s - loss: 0.0016\n",
      "Epoch 25/100\n",
      "356/356 - 1s - loss: 0.0016\n",
      "Epoch 26/100\n",
      "356/356 - 1s - loss: 0.0016\n",
      "Epoch 27/100\n",
      "356/356 - 1s - loss: 0.0016\n",
      "Epoch 28/100\n",
      "356/356 - 1s - loss: 0.0016\n",
      "Epoch 29/100\n",
      "356/356 - 1s - loss: 0.0016\n",
      "Epoch 30/100\n",
      "356/356 - 1s - loss: 0.0016\n",
      "Epoch 31/100\n",
      "356/356 - 1s - loss: 0.0016\n",
      "Epoch 32/100\n",
      "356/356 - 1s - loss: 0.0016\n",
      "Epoch 33/100\n",
      "356/356 - 1s - loss: 0.0016\n",
      "Epoch 34/100\n",
      "356/356 - 1s - loss: 0.0016\n",
      "Epoch 35/100\n",
      "356/356 - 1s - loss: 0.0016\n",
      "Epoch 36/100\n",
      "356/356 - 1s - loss: 0.0016\n",
      "Epoch 37/100\n",
      "356/356 - 1s - loss: 0.0016\n",
      "Epoch 38/100\n",
      "356/356 - 1s - loss: 0.0016\n",
      "Epoch 39/100\n",
      "356/356 - 1s - loss: 0.0016\n",
      "Epoch 40/100\n",
      "356/356 - 1s - loss: 0.0016\n",
      "Epoch 41/100\n",
      "356/356 - 1s - loss: 0.0015\n",
      "Epoch 42/100\n",
      "356/356 - 1s - loss: 0.0016\n",
      "Epoch 43/100\n",
      "356/356 - 1s - loss: 0.0015\n",
      "Epoch 44/100\n",
      "356/356 - 1s - loss: 0.0016\n",
      "Epoch 45/100\n",
      "356/356 - 1s - loss: 0.0016\n",
      "Epoch 46/100\n",
      "356/356 - 1s - loss: 0.0015\n",
      "Epoch 47/100\n",
      "356/356 - 1s - loss: 0.0015\n",
      "Epoch 48/100\n",
      "356/356 - 1s - loss: 0.0015\n",
      "Epoch 49/100\n",
      "356/356 - 1s - loss: 0.0015\n",
      "Epoch 50/100\n",
      "356/356 - 1s - loss: 0.0015\n",
      "Epoch 51/100\n",
      "356/356 - 1s - loss: 0.0015\n",
      "Epoch 52/100\n",
      "356/356 - 1s - loss: 0.0015\n",
      "Epoch 53/100\n",
      "356/356 - 1s - loss: 0.0015\n",
      "Epoch 54/100\n",
      "356/356 - 1s - loss: 0.0015\n",
      "Epoch 55/100\n",
      "356/356 - 1s - loss: 0.0015\n",
      "Epoch 56/100\n",
      "356/356 - 1s - loss: 0.0015\n",
      "Epoch 57/100\n",
      "356/356 - 1s - loss: 0.0015\n",
      "Epoch 58/100\n",
      "356/356 - 1s - loss: 0.0015\n",
      "Epoch 59/100\n",
      "356/356 - 1s - loss: 0.0015\n",
      "Epoch 60/100\n",
      "356/356 - 1s - loss: 0.0015\n",
      "Epoch 61/100\n",
      "356/356 - 1s - loss: 0.0015\n",
      "Epoch 62/100\n",
      "356/356 - 1s - loss: 0.0015\n",
      "Epoch 63/100\n",
      "356/356 - 1s - loss: 0.0015\n",
      "Epoch 64/100\n",
      "356/356 - 1s - loss: 0.0015\n",
      "Epoch 65/100\n",
      "356/356 - 1s - loss: 0.0015\n",
      "Epoch 66/100\n",
      "356/356 - 1s - loss: 0.0015\n",
      "Epoch 67/100\n",
      "356/356 - 1s - loss: 0.0015\n",
      "Epoch 68/100\n",
      "356/356 - 1s - loss: 0.0015\n",
      "Epoch 69/100\n",
      "356/356 - 1s - loss: 0.0015\n",
      "Epoch 70/100\n",
      "356/356 - 1s - loss: 0.0015\n",
      "Epoch 71/100\n",
      "356/356 - 1s - loss: 0.0015\n",
      "Epoch 72/100\n",
      "356/356 - 1s - loss: 0.0015\n",
      "Epoch 73/100\n",
      "356/356 - 1s - loss: 0.0014\n",
      "Epoch 74/100\n",
      "356/356 - 1s - loss: 0.0015\n",
      "Epoch 75/100\n",
      "356/356 - 1s - loss: 0.0015\n",
      "Epoch 76/100\n",
      "356/356 - 1s - loss: 0.0014\n",
      "Epoch 77/100\n",
      "356/356 - 1s - loss: 0.0015\n",
      "Epoch 78/100\n",
      "356/356 - 1s - loss: 0.0014\n",
      "Epoch 79/100\n",
      "356/356 - 1s - loss: 0.0015\n",
      "Epoch 80/100\n",
      "356/356 - 1s - loss: 0.0015\n",
      "Epoch 81/100\n",
      "356/356 - 1s - loss: 0.0014\n",
      "Epoch 82/100\n",
      "356/356 - 1s - loss: 0.0014\n",
      "Epoch 83/100\n",
      "356/356 - 1s - loss: 0.0015\n",
      "Epoch 84/100\n",
      "356/356 - 1s - loss: 0.0015\n",
      "Epoch 85/100\n",
      "356/356 - 1s - loss: 0.0015\n",
      "Epoch 86/100\n",
      "356/356 - 1s - loss: 0.0014\n",
      "Epoch 87/100\n",
      "356/356 - 1s - loss: 0.0014\n",
      "Epoch 88/100\n",
      "356/356 - 1s - loss: 0.0015\n",
      "Epoch 89/100\n",
      "356/356 - 1s - loss: 0.0014\n",
      "Epoch 90/100\n",
      "356/356 - 1s - loss: 0.0014\n",
      "Epoch 91/100\n",
      "356/356 - 1s - loss: 0.0014\n",
      "Epoch 92/100\n",
      "356/356 - 1s - loss: 0.0014\n",
      "Epoch 93/100\n",
      "356/356 - 1s - loss: 0.0014\n",
      "Epoch 94/100\n",
      "356/356 - 1s - loss: 0.0015\n",
      "Epoch 95/100\n",
      "356/356 - 1s - loss: 0.0014\n",
      "Epoch 96/100\n",
      "356/356 - 1s - loss: 0.0014\n",
      "Epoch 97/100\n",
      "356/356 - 1s - loss: 0.0014\n",
      "Epoch 98/100\n",
      "356/356 - 1s - loss: 0.0014\n",
      "Epoch 99/100\n",
      "356/356 - 1s - loss: 0.0014\n",
      "Epoch 100/100\n",
      "356/356 - 1s - loss: 0.0014\n"
     ]
    },
    {
     "data": {
      "text/plain": [
       "<tensorflow.python.keras.callbacks.History at 0x1c6ca7ad730>"
      ]
     },
     "execution_count": 21,
     "metadata": {},
     "output_type": "execute_result"
    }
   ],
   "source": [
    "# create and fit the LSTM network\n",
    "model = Sequential()\n",
    "model.add(LSTM(4, input_shape=(1, look_back)))\n",
    "model.add(Dense(1))\n",
    "model.compile(loss='mean_squared_error', optimizer='adam')\n",
    "model.fit(trainX, trainY, epochs=100, batch_size=1, verbose=2)"
   ]
  },
  {
   "cell_type": "code",
   "execution_count": 22,
   "metadata": {},
   "outputs": [],
   "source": [
    "# make predictions\n",
    "trainPredict = model.predict(trainX)\n",
    "testPredict = model.predict(testX)\n"
   ]
  },
  {
   "cell_type": "code",
   "execution_count": 23,
   "metadata": {},
   "outputs": [],
   "source": [
    "# invert predictions\n",
    "trainPredict = scaler.inverse_transform(trainPredict)\n",
    "trainY = scaler.inverse_transform([trainY])\n",
    "testPredict = scaler.inverse_transform(testPredict)\n",
    "testY = scaler.inverse_transform([testY])"
   ]
  },
  {
   "cell_type": "code",
   "execution_count": 24,
   "metadata": {},
   "outputs": [
    {
     "name": "stdout",
     "output_type": "stream",
     "text": [
      "Train Score: 537.97 RMSE\n",
      "Test Score: 2431.15 RMSE\n"
     ]
    }
   ],
   "source": [
    "# calculate root mean squared error\n",
    "trainScore = math.sqrt(metrics.mean_squared_error(trainY[0], trainPredict[:,0]))\n",
    "print('Train Score: %.2f RMSE' % (trainScore))\n",
    "testScore = math.sqrt(metrics.mean_squared_error(testY[0], testPredict[:,0]))\n",
    "print('Test Score: %.2f RMSE' % (testScore))"
   ]
  },
  {
   "cell_type": "code",
   "execution_count": 25,
   "metadata": {},
   "outputs": [
    {
     "name": "stdout",
     "output_type": "stream",
     "text": [
      "Train Score: 289407.27 MSE\n",
      "Test Score: 5910474.73 MSE\n"
     ]
    }
   ],
   "source": [
    "# calculate mean squared error\n",
    "trainScore = metrics.mean_squared_error(trainY[0], trainPredict[:,0])\n",
    "print('Train Score: %.2f MSE' % (trainScore))\n",
    "testScore = metrics.mean_squared_error(testY[0], testPredict[:,0])\n",
    "print('Test Score: %.2f MSE' % (testScore))"
   ]
  },
  {
   "cell_type": "code",
   "execution_count": 26,
   "metadata": {},
   "outputs": [
    {
     "name": "stdout",
     "output_type": "stream",
     "text": [
      "Train Score: 297.67 MAE\n",
      "Test Score: 1280.24 MAE\n"
     ]
    }
   ],
   "source": [
    "# calculate mean absolute error\n",
    "trainScore = metrics.mean_absolute_error(trainY[0], trainPredict[:,0])\n",
    "print('Train Score: %.2f MAE' % (trainScore))\n",
    "testScore = metrics.mean_absolute_error(testY[0], testPredict[:,0])\n",
    "print('Test Score: %.2f MAE' % (testScore))"
   ]
  },
  {
   "cell_type": "code",
   "execution_count": 27,
   "metadata": {},
   "outputs": [],
   "source": [
    "# shift train predictions for plotting\n",
    "trainPredictPlot = numpy.empty_like(dataset)\n",
    "trainPredictPlot[:, :] = numpy.nan\n",
    "trainPredictPlot[look_back:len(trainPredict)+look_back, :] = trainPredict"
   ]
  },
  {
   "cell_type": "code",
   "execution_count": 28,
   "metadata": {},
   "outputs": [],
   "source": [
    "# shift test predictions for plotting\n",
    "testPredictPlot = numpy.empty_like(dataset)\n",
    "testPredictPlot[:, :] = numpy.nan\n",
    "testPredictPlot[len(trainPredict)+(look_back*2)+1:len(dataset)-1, :] = testPredict"
   ]
  },
  {
   "cell_type": "code",
   "execution_count": 29,
   "metadata": {},
   "outputs": [
    {
     "data": {
      "image/png": "[encoded data removed]",
      "text/plain": [
       "<Figure size 1080x576 with 1 Axes>"
      ]
     },
     "metadata": {
      "needs_background": "light"
     },
     "output_type": "display_data"
    }
   ],
   "source": [
    "# plot baseline and predictions\n",
    "plt.figure(figsize=(15,8))\n",
    "plt.plot(scaler.inverse_transform(dataset))#original-blue\n",
    "plt.plot(trainPredictPlot)#orange\n",
    "plt.plot(testPredictPlot)#green\n",
    "plt.legend(['Original','predictions of training dataset','predictions on test dataset'])\n",
    "plt.show()"
   ]
  },
  {
   "cell_type": "code",
   "execution_count": 30,
   "metadata": {},
   "outputs": [],
   "source": [
    "yhat = model.predict(testX, verbose=0)"
   ]
  },
  {
   "cell_type": "code",
   "execution_count": 31,
   "metadata": {},
   "outputs": [
    {
     "name": "stdout",
     "output_type": "stream",
     "text": [
      "Predicted=[74.83018]\n",
      "Predicted=[76.353325]\n",
      "Predicted=[79.3823]\n",
      "Predicted=[72.49804]\n",
      "Predicted=[60.260815]\n",
      "Predicted=[71.10699]\n",
      "Predicted=[86.57116]\n",
      "Predicted=[92.16961]\n",
      "Predicted=[99.86482]\n",
      "Predicted=[102.235344]\n",
      "Predicted=[105.12535]\n",
      "Predicted=[101.42442]\n",
      "Predicted=[93.625145]\n",
      "Predicted=[110.30474]\n",
      "Predicted=[113.38639]\n",
      "Predicted=[108.123375]\n",
      "Predicted=[118.43537]\n",
      "Predicted=[119.97253]\n",
      "Predicted=[125.29178]\n",
      "Predicted=[122.70729]\n",
      "Predicted=[129.59042]\n",
      "Predicted=[133.70335]\n",
      "Predicted=[138.59535]\n",
      "Predicted=[143.34071]\n",
      "Predicted=[147.42256]\n",
      "Predicted=[151.55269]\n",
      "Predicted=[146.61143]\n",
      "Predicted=[149.38153]\n",
      "Predicted=[152.68764]\n",
      "Predicted=[157.45172]\n",
      "Predicted=[160.59254]\n",
      "Predicted=[177.42558]\n",
      "Predicted=[174.06444]\n",
      "Predicted=[168.38776]\n",
      "Predicted=[185.72368]\n",
      "Predicted=[196.26283]\n",
      "Predicted=[197.93352]\n",
      "Predicted=[210.30197]\n",
      "Predicted=[215.76245]\n",
      "Predicted=[220.4272]\n",
      "Predicted=[232.21893]\n",
      "Predicted=[244.23776]\n",
      "Predicted=[253.00229]\n",
      "Predicted=[261.16403]\n",
      "Predicted=[271.06052]\n",
      "Predicted=[280.1598]\n",
      "Predicted=[277.06]\n",
      "Predicted=[280.05493]\n",
      "Predicted=[282.67706]\n",
      "Predicted=[285.20554]\n",
      "Predicted=[288.688]\n",
      "Predicted=[290.06976]\n",
      "Predicted=[290.80692]\n",
      "Predicted=[269.03018]\n",
      "Predicted=[273.5968]\n",
      "Predicted=[246.85504]\n",
      "Predicted=[245.10031]\n",
      "Predicted=[269.20364]\n",
      "Predicted=[272.1231]\n",
      "Predicted=[259.50427]\n",
      "Predicted=[247.54576]\n",
      "Predicted=[209.84706]\n",
      "Predicted=[183.29254]\n",
      "Predicted=[232.11623]\n",
      "Predicted=[233.34201]\n",
      "Predicted=[217.41518]\n",
      "Predicted=[227.34695]\n",
      "Predicted=[158.33774]\n",
      "Predicted=[175.03792]\n",
      "Predicted=[213.28273]\n",
      "Predicted=[154.82938]\n",
      "Predicted=[201.26643]\n",
      "Predicted=[196.08113]\n",
      "Predicted=[109.315025]\n",
      "Predicted=[73.30119]\n",
      "Predicted=[81.388725]\n",
      "Predicted=[54.58164]\n",
      "Predicted=[88.048935]\n",
      "Predicted=[92.03066]\n",
      "Predicted=[143.8105]\n",
      "Predicted=[109.84324]\n",
      "Predicted=[119.65292]\n",
      "Predicted=[66.4608]\n",
      "Predicted=[76.71514]\n",
      "Predicted=[71.98608]\n",
      "Predicted=[103.246284]\n",
      "Predicted=[87.90843]\n",
      "Predicted=[104.05289]\n",
      "Predicted=[88.470085]\n",
      "Predicted=[96.99865]\n",
      "Predicted=[111.09435]\n",
      "Predicted=[122.07352]\n",
      "Predicted=[135.2226]\n",
      "Predicted=[143.28192]\n",
      "Predicted=[146.55338]\n",
      "Predicted=[131.80783]\n",
      "Predicted=[128.351]\n",
      "Predicted=[142.28049]\n",
      "Predicted=[143.51694]\n",
      "Predicted=[183.53712]\n",
      "Predicted=[163.20392]\n",
      "Predicted=[151.78012]\n",
      "Predicted=[164.22914]\n",
      "Predicted=[154.43631]\n",
      "Predicted=[161.79324]\n",
      "Predicted=[178.6838]\n",
      "Predicted=[161.90205]\n",
      "Predicted=[184.36627]\n",
      "Predicted=[186.06146]\n",
      "Predicted=[145.68121]\n",
      "Predicted=[131.93051]\n",
      "Predicted=[175.9049]\n",
      "Predicted=[191.42593]\n",
      "Predicted=[194.9411]\n",
      "Predicted=[206.62012]\n",
      "Predicted=[209.22429]\n",
      "Predicted=[189.02527]\n",
      "Predicted=[211.90273]\n",
      "Predicted=[210.0127]\n",
      "Predicted=[222.65611]\n",
      "Predicted=[238.51096]\n",
      "Predicted=[253.71333]\n",
      "Predicted=[256.60483]\n",
      "Predicted=[252.63051]\n",
      "Predicted=[230.14407]\n",
      "Predicted=[257.473]\n",
      "Predicted=[268.24982]\n",
      "Predicted=[272.8423]\n",
      "Predicted=[281.07965]\n",
      "Predicted=[279.20984]\n",
      "Predicted=[281.70508]\n",
      "Predicted=[277.95792]\n",
      "Predicted=[285.18665]\n",
      "Predicted=[289.83084]\n",
      "Predicted=[291.58286]\n",
      "Predicted=[291.18283]\n",
      "Predicted=[290.80228]\n",
      "Predicted=[290.35062]\n",
      "Predicted=[289.17966]\n",
      "Predicted=[289.0606]\n",
      "Predicted=[286.24713]\n",
      "Predicted=[281.16684]\n",
      "Predicted=[283.57962]\n",
      "Predicted=[290.2431]\n",
      "Predicted=[288.235]\n",
      "Predicted=[283.43076]\n",
      "Predicted=[275.65622]\n",
      "Predicted=[270.71722]\n",
      "Predicted=[254.05052]\n",
      "Predicted=[240.44138]\n",
      "Predicted=[228.63687]\n"
     ]
    }
   ],
   "source": [
    "for i in range(len(testX)):\n",
    "    print(\"Predicted=%s\" % (yhat[i]*1000))"
   ]
  },
  {
   "cell_type": "code",
   "execution_count": null,
   "metadata": {},
   "outputs": [],
   "source": []
  }
 ],
 "metadata": {
  "kernelspec": {
   "display_name": "Python 3",
   "language": "python",
   "name": "python3"
  },
  "language_info": {
   "codemirror_mode": {
    "name": "ipython",
    "version": 3
   },
   "file_extension": ".py",
   "mimetype": "text/x-python",
   "name": "python",
   "nbconvert_exporter": "python",
   "pygments_lexer": "ipython3",
   "version": "3.8.3"
  }
 },
 "nbformat": 4,
 "nbformat_minor": 4
}
